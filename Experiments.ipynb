{
 "cells": [
  {
   "cell_type": "code",
   "execution_count": 2,
   "id": "ff2c2a70",
   "metadata": {},
   "outputs": [],
   "source": [
    "import time\n",
    "\n",
    "import numpy as np\n",
    "from scipy.sparse import csr_matrix\n",
    "from scipy.sparse.csgraph import connected_components\n",
    "import pandas as pd\n",
    "from rdkit import Chem\n",
    "import mols.utils.chem as chem\n",
    "\n",
    "\n",
    "from collections import defaultdict\n",
    "import os.path\n",
    "import numpy as np\n",
    "\n",
    "from mols.utils.molMDP import BlockMoleculeData, MolMDP\n",
    "import mols.utils.chem as chem\n",
    "from rdkit import Chem"
   ]
  },
  {
   "cell_type": "code",
   "execution_count": 3,
   "id": "203a42d5",
   "metadata": {},
   "outputs": [],
   "source": [
    "class BlockMoleculeData:\n",
    "\n",
    "    def __init__(self):\n",
    "        self.blockidxs = []       # indexes of every block\n",
    "        self.blocks = []          # rdkit molecule objects for every\n",
    "        self.slices = [0]         # atom index at which every block starts\n",
    "        self.numblocks = 0\n",
    "        self.jbonds = []          # [block1, block2, bond1, bond2]\n",
    "        self.stems = []           # [block1, bond1]\n",
    "        self._mol = None\n",
    "\n",
    "    def add_block(self, block_idx, block, block_r, stem_idx, atmidx):\n",
    "        \"\"\"\n",
    "\n",
    "        :param block_idx:\n",
    "        :param block:\n",
    "        :param block_r:\n",
    "        :param stem_idx:\n",
    "        :param atmidx:\n",
    "        :return:\n",
    "        \"\"\"\n",
    "        self.blockidxs.append(block_idx)\n",
    "        self.blocks.append(block)\n",
    "        self.slices.append(self.slices[-1] + block.GetNumAtoms())\n",
    "        self.numblocks += 1\n",
    "        [self.stems.append([self.numblocks-1,r]) for r in block_r[1:]]\n",
    "\n",
    "        if len(self.blocks)==1:\n",
    "            self.stems.append([self.numblocks-1, block_r[0]])\n",
    "        else:\n",
    "            if stem_idx is None:\n",
    "                assert atmidx is not None, \"need stem or atom idx\"\n",
    "                stem_idx = np.where(self.stem_atmidxs==atmidx)[0][0]\n",
    "            else:\n",
    "                assert atmidx is None, \"can't use stem and atom indices at the same time\"\n",
    "\n",
    "            stem = self.stems[stem_idx]\n",
    "            bond = [stem[0], self.numblocks-1, stem[1], block_r[0]]\n",
    "            self.stems.pop(stem_idx)\n",
    "            self.jbonds.append(bond)\n",
    "            # destroy properties\n",
    "            self._mol = None\n",
    "        return None\n",
    "\n",
    "\n",
    "    def delete_blocks(self, block_mask):\n",
    "        \"\"\"\n",
    "\n",
    "        :param block_mask:\n",
    "        :return:\n",
    "        \"\"\"\n",
    "\n",
    "        # update number of blocks\n",
    "        self.numblocks = np.sum(np.asarray(block_mask, dtype=np.int32))\n",
    "        self.blocks = list(np.asarray(self.blocks)[block_mask])\n",
    "        self.blockidxs = list(np.asarray(self.blockidxs)[block_mask])\n",
    "\n",
    "        # update junction bonds\n",
    "        reindex = np.cumsum(np.asarray(block_mask,np.int32)) - 1\n",
    "        jbonds = []\n",
    "        for bond in self.jbonds:\n",
    "            if block_mask[bond[0]] and block_mask[bond[1]]:\n",
    "                jbonds.append(np.array([reindex[bond[0]], reindex[bond[1]], bond[2], bond[3]]))\n",
    "        self.jbonds = jbonds\n",
    "\n",
    "        # update r-groups\n",
    "        stems = []\n",
    "        for stem in self.stems:\n",
    "            if block_mask[stem[0]]:\n",
    "                stems.append(np.array([reindex[stem[0]],stem[1]]))\n",
    "        self.stems = stems\n",
    "\n",
    "        # update slices\n",
    "        natms = [block.GetNumAtoms() for block in self.blocks]\n",
    "        self.slices = [0] + list(np.cumsum(natms))\n",
    "\n",
    "        # destroy properties\n",
    "        self._mol = None\n",
    "        return reindex\n",
    "\n",
    "    def remove_jbond(self, jbond_idx=None, atmidx=None):\n",
    "\n",
    "        if jbond_idx is None:\n",
    "            assert atmidx is not None, \"need jbond or atom idx\"\n",
    "            jbond_idx = np.where(self.jbond_atmidxs == atmidx)[0][0]\n",
    "        else:\n",
    "            assert atmidx is None, \"can't use stem and atom indices at the same time\"\n",
    "\n",
    "        # find index of the junction bond to remove\n",
    "        jbond = self.jbonds.pop(jbond_idx)\n",
    "\n",
    "        # find the largest connected component; delete rest\n",
    "        jbonds = np.asarray(self.jbonds, dtype=np.int32)\n",
    "        jbonds = jbonds.reshape([len(self.jbonds),4]) # handle the case when single last jbond was deleted\n",
    "        graph = csr_matrix((np.ones(self.numblocks-2),\n",
    "                            (jbonds[:,0], jbonds[:,1])),\n",
    "                           shape=(self.numblocks, self.numblocks))\n",
    "        _, components = connected_components(csgraph=graph, directed=False, return_labels=True)\n",
    "        block_mask = components==np.argmax(np.bincount(components))\n",
    "        reindex = self.delete_blocks(block_mask)\n",
    "\n",
    "        if block_mask[jbond[0]]:\n",
    "            stem = np.asarray([reindex[jbond[0]], jbond[2]])\n",
    "        else:\n",
    "            stem = np.asarray([reindex[jbond[1]], jbond[3]])\n",
    "        self.stems.append(stem)\n",
    "        atmidx = self.slices[stem[0]] + stem[1]\n",
    "        return atmidx\n",
    "\n",
    "    @property\n",
    "    def stem_atmidxs(self):\n",
    "        stems = np.asarray(self.stems)\n",
    "        if stems.shape[0]==0:\n",
    "            stem_atmidxs = np.array([])\n",
    "        else:\n",
    "            stem_atmidxs = np.asarray(self.slices)[stems[:,0]] + stems[:,1]\n",
    "        return stem_atmidxs\n",
    "\n",
    "    @property\n",
    "    def jbond_atmidxs(self):\n",
    "        jbonds = np.asarray(self.jbonds)\n",
    "        if jbonds.shape[0]==0:\n",
    "            jbond_atmidxs = np.array([])\n",
    "        else:\n",
    "            jbond_atmidxs = np.stack([np.concatenate([np.asarray(self.slices)[jbonds[:,0]] + jbonds[:,2]]),\n",
    "                                      np.concatenate([np.asarray(self.slices)[jbonds[:,1]] + jbonds[:,3]])],1)\n",
    "        return jbond_atmidxs\n",
    "\n",
    "    @property\n",
    "    def mol(self):\n",
    "        if self._mol == None:\n",
    "            self._mol, _ = chem.mol_from_frag(jun_bonds=self.jbonds, frags=self.blocks)\n",
    "        return self._mol\n",
    "\n",
    "    @property\n",
    "    def smiles(self):\n",
    "        return Chem.MolToSmiles(self.mol)"
   ]
  },
  {
   "cell_type": "code",
   "execution_count": null,
   "id": "8fba12fb",
   "metadata": {},
   "outputs": [],
   "source": [
    "class BlockMoleculeDataExtended(BlockMoleculeData):\n",
    "\n",
    "    @property\n",
    "    def mol(self):\n",
    "        return chem.mol_from_frag(jun_bonds=self.jbonds, frags=self.blocks)[0]\n",
    "\n",
    "    @property\n",
    "    def smiles(self):\n",
    "        return Chem.MolToSmiles(self.mol)\n",
    "\n",
    "    def copy(self): # shallow copy\n",
    "        o = BlockMoleculeDataExtended()\n",
    "        o.blockidxs = list(self.blockidxs)\n",
    "        o.blocks = list(self.blocks)\n",
    "        o.slices = list(self.slices)\n",
    "        o.numblocks = self.numblocks\n",
    "        o.jbonds = list(self.jbonds)\n",
    "        o.stems = list(self.stems)\n",
    "        return o\n",
    "\n",
    "    def as_dict(self):\n",
    "        return {'blockidxs': self.blockidxs,\n",
    "                'slices': self.slices,\n",
    "                'numblocks': self.numblocks,\n",
    "                'jbonds': self.jbonds,\n",
    "                'stems': self.stems}"
   ]
  },
  {
   "cell_type": "code",
   "execution_count": 68,
   "id": "1fe08ad3",
   "metadata": {},
   "outputs": [
    {
     "data": {
      "image/png": "[encoded data removed]",
      "text/plain": [
       "<rdkit.Chem.rdchem.Mol at 0x749554329c40>"
      ]
     },
     "execution_count": 68,
     "metadata": {},
     "output_type": "execute_result"
    }
   ],
   "source": [
    "from rdkit.Chem import Draw\n",
    "\n",
    "smile1 = 'CC(O)=C(Cl)C'\n",
    "block1 = Chem.MolFromSmiles(smile1)\n",
    "\n",
    "smiles = 'C1CC=C(C(CCl)CO)CC1'\n",
    "mol = Chem.MolFromSmiles(smiles)\n",
    "\n",
    "\n",
    "smile3 = 'OC1=CCC=C1'\n",
    "mol = Chem.MolFromSmiles(smile3)\n",
    "mol"
   ]
  },
  {
   "cell_type": "code",
   "execution_count": 97,
   "id": "04cf2265",
   "metadata": {},
   "outputs": [
    {
     "data": {
      "image/png": "[encoded data removed]",
      "text/plain": [
       "<rdkit.Chem.rdchem.Mol at 0x7495535ba500>"
      ]
     },
     "execution_count": 97,
     "metadata": {},
     "output_type": "execute_result"
    }
   ],
   "source": [
    "graph_1 = BlockMoleculeData()\n",
    "ring = Chem.MolFromSmiles('C1C=CC=C1')   # <-- note the initial **C**, not C=\n",
    "graph_1.add_block(\n",
    "    block_idx = 0,\n",
    "    block     = ring,\n",
    "    block_r   = [0],     # leave atom-0 with one open valence\n",
    "    stem_idx  = None,\n",
    "    atmidx    = None\n",
    ")\n",
    "\n",
    "# 2) OH fragment attaches to the open stem\n",
    "oh = Chem.MolFromSmiles('O')\n",
    "graph_1.add_block(\n",
    "    block_idx = 1,\n",
    "    block     = oh,\n",
    "    block_r   = [0],     # connect via the oxygen\n",
    "    stem_idx  = 0,       # use the only open stem created above\n",
    "    atmidx    = None\n",
    ")\n",
    "\n",
    "# graph_1.add_block(\n",
    "#     block_idx = 2,\n",
    "#     block = Chem.MolFromSmiles('C'),\n",
    "#     block_r = [0],\n",
    "#     stem_idx = 1,\n",
    "#     atmidx=None\n",
    "# )\n",
    "\n",
    "\n",
    "mol = Chem.MolFromSmiles(graph_1.smiles)\n",
    "mol"
   ]
  },
  {
   "cell_type": "markdown",
   "id": "96ae6d53",
   "metadata": {},
   "source": [
    "### For debugging, use:-"
   ]
  },
  {
   "cell_type": "code",
   "execution_count": 108,
   "id": "2f99760d",
   "metadata": {},
   "outputs": [
    {
     "name": "stdout",
     "output_type": "stream",
     "text": [
      "Atom 0: C, Degree: 2, Valence: 2\n",
      "Atom 1: C, Degree: 2, Valence: 3\n",
      "Atom 2: C, Degree: 2, Valence: 3\n",
      "Atom 3: C, Degree: 2, Valence: 3\n",
      "Atom 4: C, Degree: 2, Valence: 3\n",
      "Bond: 0 - 1 : SINGLE\n",
      "Bond: 1 - 2 : DOUBLE\n",
      "Bond: 2 - 3 : SINGLE\n",
      "Bond: 3 - 4 : DOUBLE\n",
      "Bond: 4 - 0 : SINGLE\n"
     ]
    },
    {
     "name": "stderr",
     "output_type": "stream",
     "text": [
      "[13:17:50] DEPRECATION WARNING: please use GetValence(which=)\n",
      "[13:17:50] DEPRECATION WARNING: please use GetValence(which=)\n",
      "[13:17:50] DEPRECATION WARNING: please use GetValence(which=)\n",
      "[13:17:50] DEPRECATION WARNING: please use GetValence(which=)\n",
      "[13:17:50] DEPRECATION WARNING: please use GetValence(which=)\n"
     ]
    }
   ],
   "source": [
    "ring = Chem.MolFromSmiles('C1C=CC=C1')\n",
    "for i, atom in enumerate(ring.GetAtoms()):\n",
    "    print(f\"Atom {i}: {atom.GetSymbol()}, Degree: {atom.GetDegree()}, Valence: {atom.GetExplicitValence()}\")\n",
    "\n",
    "for bond in ring.GetBonds():\n",
    "    print(f\"Bond: {bond.GetBeginAtomIdx()} - {bond.GetEndAtomIdx()} : {bond.GetBondType()}\")\n"
   ]
  },
  {
   "cell_type": "code",
   "execution_count": null,
   "id": "2393beb6",
   "metadata": {},
   "outputs": [
    {
     "data": {
      "image/jpeg": "[encoded data removed]",
      "image/png": "[encoded data removed]",
      "text/plain": [
       "<PIL.PngImagePlugin.PngImageFile image mode=RGB size=300x300>"
      ]
     },
     "execution_count": 106,
     "metadata": {},
     "output_type": "execute_result"
    }
   ],
   "source": [
    "mol = Chem.MolFromSmiles('C1C=CC=C1')\n",
    "Draw.MolToImage(mol, legend=\"Cyclopentadiene\")\n",
    "Draw.MolToImage(Chem.rdmolops.AddHs(mol), size=(300,300), kekulize=True, wedgeBonds=True)"
   ]
  },
  {
   "cell_type": "markdown",
   "id": "6d453354",
   "metadata": {},
   "source": [
    "## An important note for Block Building"
   ]
  },
  {
   "cell_type": "markdown",
   "id": "8b5044e7",
   "metadata": {},
   "source": [
    "You saw that [0,0] (the smallest atom index) ended up last, not first. That’s intentional:\n",
    "\n",
    "We put all the “future” stems first (block_r[1:]), so you can consume them in the order you listed them.\n",
    "\n",
    "We leave the “primary” stem (block_r[0]) at the end, because that’s the one you’d normally hook up immediately to a downstream block—so it’s easiest to grab as the last element (index = len(stems)-1) when you do stem_idx=None on the next add_block."
   ]
  },
  {
   "cell_type": "markdown",
   "id": "27122953",
   "metadata": {},
   "source": [
    "So, the workflow is:-\n",
    "\n",
    "`block_r => block_r[1:] => stems => stem_idx`"
   ]
  },
  {
   "cell_type": "code",
   "execution_count": null,
   "id": "7e08ff5e",
   "metadata": {},
   "outputs": [
    {
     "name": "stdout",
     "output_type": "stream",
     "text": [
      "[1 2 4 0]\n"
     ]
    },
    {
     "data": {
      "image/png": "[encoded data removed]",
      "text/plain": [
       "<rdkit.Chem.rdchem.Mol at 0x749552d25b60>"
      ]
     },
     "execution_count": 129,
     "metadata": {},
     "output_type": "execute_result"
    }
   ],
   "source": [
    "from rdkit import Chem\n",
    "from rdkit.Chem import Draw\n",
    "from mols.utils.molMDP import BlockMoleculeData\n",
    "\n",
    "# 1. Initialize the graph\n",
    "graph = BlockMoleculeData()\n",
    "\n",
    "# 2. Add the cyclopentadiene ring with three R-group stems:\n",
    "#    - block_r[0] = 0 → for the OH\n",
    "#    - block_r[1] = 1 → for the first Me\n",
    "#    - block_r[2] = 4 → for the second Me\n",
    "ring = Chem.MolFromSmiles('C1C=CC=C1')\n",
    "graph.add_block(\n",
    "    block_idx = 0,\n",
    "    block     = ring,\n",
    "    block_r   = [0, 1, 2, 4],\n",
    "    stem_idx  = None,\n",
    "    atmidx    = None\n",
    ")\n",
    "# Internally, graph.stems is now [[0,1], [0,4], [0,0]]\n",
    "# print(graph.stems)\n",
    "\n",
    "\n",
    "print(graph.stem_atmidxs)\n",
    "\n",
    "# 3. Attach the OH to C0 → that was the *third* stem in the list (index 2)\n",
    "oh = Chem.MolFromSmiles('O')\n",
    "graph.add_block(\n",
    "    block_idx = 1,\n",
    "    block     = oh,\n",
    "    block_r   = [0],\n",
    "    stem_idx  = 3,\n",
    "    atmidx    = None\n",
    ")\n",
    "# Consumes stem [0,0], leaving stems = [[0,1], [0,4]]\n",
    "\n",
    "# print(graph.stems)\n",
    "\n",
    "# 4. Attach the first Me to C1 → now at stems[0]\n",
    "me1 = Chem.MolFromSmiles('C')\n",
    "graph.add_block(\n",
    "    block_idx = 2,\n",
    "    block     = me1,\n",
    "    block_r   = [0],\n",
    "    stem_idx  = 0,\n",
    "    atmidx    = None\n",
    ")\n",
    "# Consumes stem [0,1], leaving stems = [[0,4]]\n",
    "\n",
    "# print(graph.stems)\n",
    "\n",
    "# 5. Attach the second Me to C4 → now at stems[0] again\n",
    "me2 = Chem.MolFromSmiles('C')\n",
    "graph.add_block(\n",
    "    block_idx = 3,\n",
    "    block     = me2,\n",
    "    block_r   = [0],\n",
    "    stem_idx  = 1,\n",
    "    atmidx    = None\n",
    ")\n",
    "\n",
    "# print(graph.stems)\n",
    "\n",
    "prp = Chem.MolFromSmiles('C(CCl)C')\n",
    "graph.add_block(\n",
    "    block_idx = 4,\n",
    "    block = prp,\n",
    "    block_r = [0],\n",
    "    stem_idx = 0,\n",
    "    atmidx=None\n",
    ")\n",
    "\n",
    "\n",
    "# All stems consumed\n",
    "\n",
    "# 6. Inspect the result\n",
    "graph.mol\n"
   ]
  },
  {
   "cell_type": "code",
   "execution_count": 120,
   "id": "3b9b4310",
   "metadata": {},
   "outputs": [
    {
     "name": "stdout",
     "output_type": "stream",
     "text": [
      "[[0, 1, 0, 0], [0, 2, 1, 0], [0, 3, 4, 0], [0, 4, 2, 0]]\n"
     ]
    }
   ],
   "source": [
    "print(graph.jbonds)"
   ]
  },
  {
   "cell_type": "markdown",
   "id": "f0157881",
   "metadata": {},
   "source": [
    "### Use of atmidx:-"
   ]
  },
  {
   "cell_type": "code",
   "execution_count": null,
   "id": "9e89860c",
   "metadata": {},
   "outputs": [
    {
     "name": "stdout",
     "output_type": "stream",
     "text": [
      "Available stem atom indices: [1 0]\n",
      "Final SMILES: CC1C=CC=C1\n"
     ]
    },
    {
     "data": {
      "image/jpeg": "[encoded data removed]",
      "image/png": "[encoded data removed]",
      "text/plain": [
       "<PIL.PngImagePlugin.PngImageFile image mode=RGB size=300x300>"
      ]
     },
     "execution_count": 131,
     "metadata": {},
     "output_type": "execute_result"
    }
   ],
   "source": [
    "g = BlockMoleculeData()\n",
    "\n",
    "\n",
    "ring = Chem.MolFromSmiles('C1C=CC=C1')\n",
    "g.add_block(\n",
    "    block_idx=0, \n",
    "    block=ring, \n",
    "    block_r=[0,1], \n",
    "    stem_idx=None, \n",
    "    atmidx=None\n",
    ")\n",
    "# Internally: stems == [[0,1], [0,0]]\n",
    "\n",
    "\n",
    "# 3. Now we want to attach CH3 to ring atom-1, but we only know it's atom index = 1:\n",
    "print(\"Available stem atom indices:\", g.stem_atmidxs)  # e.g. [1]\n",
    "\n",
    "# Use atmidx=1 to pick that stem:\n",
    "g.add_block(\n",
    "    block_idx = 2,\n",
    "    block     = Chem.MolFromSmiles('C'),\n",
    "    block_r   = [0],\n",
    "    stem_idx  = None,     # we’re not using stem_idx now\n",
    "    atmidx    = g.stem_atmidxs[1]\n",
    ")\n",
    "\n",
    "\n",
    "print(\"Final SMILES:\", g.smiles)\n",
    "Draw.MolToImage(g.mol)"
   ]
  },
  {
   "cell_type": "code",
   "execution_count": null,
   "id": "91e69b6d",
   "metadata": {},
   "outputs": [],
   "source": []
  },
  {
   "cell_type": "code",
   "execution_count": null,
   "id": "ce10f472",
   "metadata": {},
   "outputs": [],
   "source": []
  }
 ],
 "metadata": {
  "kernelspec": {
   "display_name": "Playing_with_GFN",
   "language": "python",
   "name": "python3"
  },
  "language_info": {
   "codemirror_mode": {
    "name": "ipython",
    "version": 3
   },
   "file_extension": ".py",
   "mimetype": "text/x-python",
   "name": "python",
   "nbconvert_exporter": "python",
   "pygments_lexer": "ipython3",
   "version": "3.12.11"
  }
 },
 "nbformat": 4,
 "nbformat_minor": 5
}
